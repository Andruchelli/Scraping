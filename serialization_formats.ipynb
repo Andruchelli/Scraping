{
 "cells": [
  {
   "cell_type": "markdown",
   "metadata": {},
   "source": [
    "## Сериализация\n",
    "#### – процесс перевода какой-либо структуры данных в последовательность битов\n",
    "\n",
    "- Проще говоря, процесс \"консервирования\" (сохранения) некоторой переменной (например: список, строка, словарь) в файл на диске. \n",
    "- При сериализации \"расконсервируемый\" объект пребывает в том же состоянии, в котором он был заморожен."
   ]
  },
  {
   "cell_type": "code",
   "execution_count": 31,
   "metadata": {},
   "outputs": [],
   "source": [
    "books_database = {\n",
    "    \"War and Peace\": {\n",
    "        \"author\": {\n",
    "            \"full_name\": \"Leo Tolstoy\",\n",
    "            \"period\": [1847, 1910],\n",
    "            \"literary_movement\" : \"Realism\"\n",
    "        },\n",
    "        \"year_published\": 1869,\n",
    "        \"language\": \"ru\",\n",
    "        \"size\": 165983\n",
    "    },\n",
    "    \n",
    "    \"The Picture of Dorian Gray\": {\n",
    "        \"author\": {\n",
    "            \"full_name\": \"Oscar Wilde\",\n",
    "            \"period\": [1854, 1900],\n",
    "            \"literary_movement\" : \"Aestheticism\"\n",
    "        },\n",
    "        \"year_published\": 1890,\n",
    "        \"language\": \"en\",\n",
    "        \"size\": 98765\n",
    "    },\n",
    "    \n",
    "    \"The Financier\": {\n",
    "        \"author\": {\n",
    "            \"full_name\": \"Theodore Dreiser\",\n",
    "            \"period\": [1871, 1945],\n",
    "            \"literary_movement\" : \"Realism\"\n",
    "        },\n",
    "        \"year_published\": 1912,\n",
    "        \"language\": \"en\",\n",
    "        \"size\": 112664\n",
    "    }\n",
    "}"
   ]
  },
  {
   "cell_type": "markdown",
   "metadata": {},
   "source": [
    "## JSON - JavaScript Object Notation"
   ]
  },
  {
   "cell_type": "code",
   "execution_count": 32,
   "metadata": {},
   "outputs": [],
   "source": [
    "# импортируем библиотеку json\n",
    "import json"
   ]
  },
  {
   "cell_type": "markdown",
   "metadata": {},
   "source": [
    "Функции для сериализации:\n",
    "- json.dump(...) - сериализует в файл (сериализует в строчку и записывает строчку в файл)\n",
    "- json.dumps(...) - сериализует в строчку"
   ]
  },
  {
   "cell_type": "markdown",
   "metadata": {},
   "source": [
    "### json.dumps"
   ]
  },
  {
   "cell_type": "code",
   "execution_count": 35,
   "metadata": {},
   "outputs": [],
   "source": [
    "serialized = json.dumps(books_database)"
   ]
  },
  {
   "cell_type": "code",
   "execution_count": 36,
   "metadata": {},
   "outputs": [
    {
     "name": "stdout",
     "output_type": "stream",
     "text": [
      "{\"War and Peace\": {\"author\": {\"full_name\": \"Leo Tolstoy\", \"period\": [1847, 1910], \"literary_movement\": \"Realism\"}, \"year_published\": 1869, \"language\": \"ru\", \"size\": 165983}, \"The Picture of Dorian Gray\": {\"author\": {\"full_name\": \"Oscar Wilde\", \"period\": [1854, 1900], \"literary_movement\": \"Aestheticism\"}, \"year_published\": 1890, \"language\": \"en\", \"size\": 98765}, \"The Financier\": {\"author\": {\"full_name\": \"Theodore Dreiser\", \"period\": [1871, 1945], \"literary_movement\": \"Realism\"}, \"year_published\": 1912, \"language\": \"en\", \"size\": 112664}}\n"
     ]
    }
   ],
   "source": [
    "print(serialized)"
   ]
  },
  {
   "cell_type": "code",
   "execution_count": 37,
   "metadata": {},
   "outputs": [
    {
     "name": "stdout",
     "output_type": "stream",
     "text": [
      "{'War and Peace': {'author': {'full_name': 'Leo Tolstoy', 'period': [1847, 1910], 'literary_movement': 'Realism'}, 'year_published': 1869, 'language': 'ru', 'size': 165983}, 'The Picture of Dorian Gray': {'author': {'full_name': 'Oscar Wilde', 'period': [1854, 1900], 'literary_movement': 'Aestheticism'}, 'year_published': 1890, 'language': 'en', 'size': 98765}, 'The Financier': {'author': {'full_name': 'Theodore Dreiser', 'period': [1871, 1945], 'literary_movement': 'Realism'}, 'year_published': 1912, 'language': 'en', 'size': 112664}}\n"
     ]
    }
   ],
   "source": [
    "print(books_database)"
   ]
  },
  {
   "cell_type": "markdown",
   "metadata": {},
   "source": [
    "### json.dump"
   ]
  },
  {
   "cell_type": "code",
   "execution_count": 38,
   "metadata": {},
   "outputs": [],
   "source": [
    "with open(\"books_db.json\", \"w\") as f:\n",
    "    json.dump(books_database, f)"
   ]
  },
  {
   "cell_type": "markdown",
   "metadata": {},
   "source": [
    "Функции для десериализации:\n",
    "- json.load(...) - десериализация с файла\n",
    "- json.loads(...) - десериализация со строки"
   ]
  },
  {
   "cell_type": "markdown",
   "metadata": {},
   "source": [
    "### json.load"
   ]
  },
  {
   "cell_type": "code",
   "execution_count": 39,
   "metadata": {},
   "outputs": [
    {
     "data": {
      "text/plain": [
       "{'War and Peace': {'author': {'full_name': 'Leo Tolstoy',\n",
       "   'period': [1847, 1910],\n",
       "   'literary_movement': 'Realism'},\n",
       "  'year_published': 1869,\n",
       "  'language': 'ru',\n",
       "  'size': 165983},\n",
       " 'The Picture of Dorian Gray': {'author': {'full_name': 'Oscar Wilde',\n",
       "   'period': [1854, 1900],\n",
       "   'literary_movement': 'Aestheticism'},\n",
       "  'year_published': 1890,\n",
       "  'language': 'en',\n",
       "  'size': 98765},\n",
       " 'The Financier': {'author': {'full_name': 'Theodore Dreiser',\n",
       "   'period': [1871, 1945],\n",
       "   'literary_movement': 'Realism'},\n",
       "  'year_published': 1912,\n",
       "  'language': 'en',\n",
       "  'size': 112664}}"
      ]
     },
     "execution_count": 39,
     "metadata": {},
     "output_type": "execute_result"
    }
   ],
   "source": [
    "with open(\"books_db.json\", \"r\") as f:\n",
    "    deserialized_object = json.load(f)\n",
    "\n",
    "deserialized_object"
   ]
  },
  {
   "cell_type": "code",
   "execution_count": 40,
   "metadata": {},
   "outputs": [
    {
     "data": {
      "text/plain": [
       "dict"
      ]
     },
     "execution_count": 40,
     "metadata": {},
     "output_type": "execute_result"
    }
   ],
   "source": [
    "type(deserialized_object)"
   ]
  },
  {
   "cell_type": "code",
   "execution_count": 41,
   "metadata": {},
   "outputs": [
    {
     "data": {
      "text/plain": [
       "{'author': {'full_name': 'Leo Tolstoy',\n",
       "  'period': [1847, 1910],\n",
       "  'literary_movement': 'Realism'},\n",
       " 'year_published': 1869,\n",
       " 'language': 'ru',\n",
       " 'size': 165983}"
      ]
     },
     "execution_count": 41,
     "metadata": {},
     "output_type": "execute_result"
    }
   ],
   "source": [
    "deserialized_object[\"War and Peace\"]"
   ]
  },
  {
   "cell_type": "code",
   "execution_count": 42,
   "metadata": {},
   "outputs": [
    {
     "data": {
      "text/plain": [
       "True"
      ]
     },
     "execution_count": 42,
     "metadata": {},
     "output_type": "execute_result"
    }
   ],
   "source": [
    "deserialized_object == books_database"
   ]
  },
  {
   "cell_type": "markdown",
   "metadata": {},
   "source": [
    "### json.loads"
   ]
  },
  {
   "cell_type": "code",
   "execution_count": 43,
   "metadata": {},
   "outputs": [
    {
     "data": {
      "text/plain": [
       "{'War and Peace': {'author': {'full_name': 'Leo Tolstoy',\n",
       "   'period': [1847, 1910],\n",
       "   'literary_movement': 'Realism'},\n",
       "  'year_published': 1869,\n",
       "  'language': 'ru',\n",
       "  'size': 165983},\n",
       " 'The Picture of Dorian Gray': {'author': {'full_name': 'Oscar Wilde',\n",
       "   'period': [1854, 1900],\n",
       "   'literary_movement': 'Aestheticism'},\n",
       "  'year_published': 1890,\n",
       "  'language': 'en',\n",
       "  'size': 98765},\n",
       " 'The Financier': {'author': {'full_name': 'Theodore Dreiser',\n",
       "   'period': [1871, 1945],\n",
       "   'literary_movement': 'Realism'},\n",
       "  'year_published': 1912,\n",
       "  'language': 'en',\n",
       "  'size': 112664}}"
      ]
     },
     "execution_count": 43,
     "metadata": {},
     "output_type": "execute_result"
    }
   ],
   "source": [
    "# serialized - строчка, в которую была сериализована база книг выше\n",
    "json.loads(serialized)"
   ]
  },
  {
   "cell_type": "code",
   "execution_count": null,
   "metadata": {},
   "outputs": [],
   "source": []
  }
 ],
 "metadata": {
  "kernelspec": {
   "display_name": "Python 3",
   "language": "python",
   "name": "python3"
  },
  "language_info": {
   "codemirror_mode": {
    "name": "ipython",
    "version": 3
   },
   "file_extension": ".py",
   "mimetype": "text/x-python",
   "name": "python",
   "nbconvert_exporter": "python",
   "pygments_lexer": "ipython3",
   "version": "3.6.5"
  }
 },
 "nbformat": 4,
 "nbformat_minor": 2
}
