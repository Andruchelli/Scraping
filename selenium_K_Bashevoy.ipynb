{
 "cells": [
  {
   "cell_type": "markdown",
   "metadata": {
    "id": "0Jwa8FmD1LTc"
   },
   "source": [
    "# Автоматизация авторизации с помощью Selenium\n",
    "Фреймворк для автоматизации тестирования\n",
    "\n",
    "Документация:\n",
    "- https://selenium-python.readthedocs.io/\n",
    "- https://selenium-python.com/"
   ]
  },
  {
   "cell_type": "code",
   "execution_count": 16,
   "metadata": {
    "colab": {
     "base_uri": "https://localhost:8080/",
     "height": 305
    },
    "executionInfo": {
     "elapsed": 13,
     "status": "error",
     "timestamp": 1688288581254,
     "user": {
      "displayName": "Æ",
      "userId": "08296932091143529726"
     },
     "user_tz": -180
    },
    "id": "O1V8-Gyz1LTg",
    "outputId": "c8bdcce7-1727-42b2-ccbf-d29428584dcb"
   },
   "outputs": [],
   "source": [
    "from selenium import webdriver"
   ]
  },
  {
   "cell_type": "code",
   "execution_count": 28,
   "metadata": {
    "id": "G6t2Ns3m1LTh"
   },
   "outputs": [],
   "source": [
    "# https://chromedriver.chromium.org/downloads\n",
    "\n",
    "options = webdriver.ChromeOptions()\n",
    "options.binary_location = '/Applications/Google Chrome.exe'\n",
    "\n",
    "# необходимо указывать полный адрес файла chromedriver\n",
    "webdriver_address = '/Users/andrey/Documents/GitHub/API-JSON/chromedriver'"
   ]
  },
  {
   "cell_type": "markdown",
   "metadata": {
    "id": "MRELXapD1LTi"
   },
   "source": [
    "### Просто открыть страницу"
   ]
  },
  {
   "cell_type": "code",
   "execution_count": 29,
   "metadata": {},
   "outputs": [],
   "source": [
    "service = Service(executable_path=r'/usr/bin/chromedriver')\n",
    "chrome_options = webdriver.ChromeOptions()\n",
    "chrome_options.add_argument('--headless')\n",
    "chrome_options.add_argument('--no-sandbox')\n",
    "chrome_options.add_argument('--disable-dev-shm-usage')"
   ]
  },
  {
   "cell_type": "code",
   "execution_count": 30,
   "metadata": {
    "id": "-oigpOCc1LTj",
    "scrolled": true
   },
   "outputs": [
    {
     "ename": "TypeError",
     "evalue": "__init__() got multiple values for argument 'options'",
     "output_type": "error",
     "traceback": [
      "\u001b[0;31m---------------------------------------------------------------------------\u001b[0m",
      "\u001b[0;31mTypeError\u001b[0m                                 Traceback (most recent call last)",
      "Input \u001b[0;32mIn [30]\u001b[0m, in \u001b[0;36m<cell line: 1>\u001b[0;34m()\u001b[0m\n\u001b[0;32m----> 1\u001b[0m browser \u001b[38;5;241m=\u001b[39m \u001b[43mwebdriver\u001b[49m\u001b[38;5;241;43m.\u001b[39;49m\u001b[43mChrome\u001b[49m\u001b[43m(\u001b[49m\u001b[43mwebdriver_address\u001b[49m\u001b[43m,\u001b[49m\u001b[43m \u001b[49m\u001b[43moptions\u001b[49m\u001b[38;5;241;43m=\u001b[39;49m\u001b[43moptions\u001b[49m\u001b[43m)\u001b[49m\n",
      "\u001b[0;31mTypeError\u001b[0m: __init__() got multiple values for argument 'options'"
     ]
    }
   ],
   "source": [
    "browser = webdriver.Chrome(webdriver_address, options=options)\n",
    "#browser.get(\"http://the-internet.herokuapp.com/\")"
   ]
  },
  {
   "cell_type": "markdown",
   "metadata": {
    "id": "KzZuf4131LTj"
   },
   "source": [
    "### Форма авторизации с заполнением"
   ]
  },
  {
   "cell_type": "code",
   "execution_count": 14,
   "metadata": {
    "id": "UYce2XF11LTk"
   },
   "outputs": [],
   "source": [
    "import time"
   ]
  },
  {
   "cell_type": "code",
   "execution_count": 15,
   "metadata": {
    "id": "p4ig3qGi1LTk"
   },
   "outputs": [
    {
     "ename": "TypeError",
     "evalue": "__init__() got multiple values for argument 'options'",
     "output_type": "error",
     "traceback": [
      "\u001b[0;31m---------------------------------------------------------------------------\u001b[0m",
      "\u001b[0;31mTypeError\u001b[0m                                 Traceback (most recent call last)",
      "Input \u001b[0;32mIn [15]\u001b[0m, in \u001b[0;36m<cell line: 1>\u001b[0;34m()\u001b[0m\n\u001b[0;32m----> 1\u001b[0m driver \u001b[38;5;241m=\u001b[39m \u001b[43mwebdriver\u001b[49m\u001b[38;5;241;43m.\u001b[39;49m\u001b[43mChrome\u001b[49m\u001b[43m(\u001b[49m\u001b[43mwebdriver_address\u001b[49m\u001b[43m,\u001b[49m\u001b[43m \u001b[49m\u001b[43moptions\u001b[49m\u001b[38;5;241;43m=\u001b[39;49m\u001b[43moptions\u001b[49m\u001b[43m)\u001b[49m\n\u001b[1;32m      2\u001b[0m driver\u001b[38;5;241m.\u001b[39mget(\u001b[38;5;124m'\u001b[39m\u001b[38;5;124mhttp://the-internet.herokuapp.com/login\u001b[39m\u001b[38;5;124m'\u001b[39m)\n\u001b[1;32m      4\u001b[0m time\u001b[38;5;241m.\u001b[39msleep(\u001b[38;5;241m5\u001b[39m)\n",
      "\u001b[0;31mTypeError\u001b[0m: __init__() got multiple values for argument 'options'"
     ]
    }
   ],
   "source": [
    "driver = webdriver.Chrome(webdriver_address, options=options)\n",
    "driver.get('http://the-internet.herokuapp.com/login')\n",
    "\n",
    "time.sleep(5)\n",
    "\n",
    "username = driver.find_element_by_id(\"username\")\n",
    "password = driver.find_element_by_id(\"password\")\n",
    "\n",
    "username.send_keys(\"tomsmith\")\n",
    "password.send_keys(\"SuperSecretPassword!\")\n",
    "\n",
    "time.sleep(5)\n",
    "\n",
    "# еще вариант find_element_by_css_selector('button.radius')\n",
    "button = driver.find_element_by_xpath(\"//button[@class='radius'][@type='submit']\").click()"
   ]
  },
  {
   "cell_type": "code",
   "execution_count": null,
   "metadata": {},
   "outputs": [],
   "source": []
  }
 ],
 "metadata": {
  "colab": {
   "provenance": []
  },
  "kernelspec": {
   "display_name": "Python 3 (ipykernel)",
   "language": "python",
   "name": "python3"
  },
  "language_info": {
   "codemirror_mode": {
    "name": "ipython",
    "version": 3
   },
   "file_extension": ".py",
   "mimetype": "text/x-python",
   "name": "python",
   "nbconvert_exporter": "python",
   "pygments_lexer": "ipython3",
   "version": "3.9.12"
  }
 },
 "nbformat": 4,
 "nbformat_minor": 1
}
