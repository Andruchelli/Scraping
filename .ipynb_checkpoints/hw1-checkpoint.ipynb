{
 "cells": [
  {
   "cell_type": "code",
   "execution_count": 67,
   "metadata": {},
   "outputs": [],
   "source": [
    "import requests as r\n",
    "from bs4 import BeautifulSoup"
   ]
  },
  {
   "cell_type": "code",
   "execution_count": 68,
   "metadata": {},
   "outputs": [],
   "source": [
    "sofas_url = \"https://www.ikea.com/ru/ru/catalog/categories/departments/living_room/10661\""
   ]
  },
  {
   "cell_type": "code",
   "execution_count": 69,
   "metadata": {},
   "outputs": [
    {
     "name": "stdout",
     "output_type": "stream",
     "text": [
      "True\n"
     ]
    }
   ],
   "source": [
    "page = r.get(sofas_url)\n",
    "print(page.ok)"
   ]
  },
  {
   "cell_type": "code",
   "execution_count": 70,
   "metadata": {},
   "outputs": [
    {
     "data": {
      "text/plain": [
       "148809"
      ]
     },
     "execution_count": 70,
     "metadata": {},
     "output_type": "execute_result"
    }
   ],
   "source": [
    "html = page.content\n",
    "len(html)"
   ]
  },
  {
   "cell_type": "code",
   "execution_count": 71,
   "metadata": {},
   "outputs": [
    {
     "name": "stderr",
     "output_type": "stream",
     "text": [
      "/anaconda3/lib/python3.6/site-packages/bs4/__init__.py:181: UserWarning: No parser was explicitly specified, so I'm using the best available HTML parser for this system (\"lxml\"). This usually isn't a problem, but if you run this code on another system, or in a different virtual environment, it may use a different parser and behave differently.\n",
      "\n",
      "The code that caused this warning is on line 193 of the file /anaconda3/lib/python3.6/runpy.py. To get rid of this warning, change code that looks like this:\n",
      "\n",
      " BeautifulSoup(YOUR_MARKUP})\n",
      "\n",
      "to this:\n",
      "\n",
      " BeautifulSoup(YOUR_MARKUP, \"lxml\")\n",
      "\n",
      "  markup_type=markup_type))\n"
     ]
    }
   ],
   "source": [
    "soup = BeautifulSoup(html)"
   ]
  },
  {
   "cell_type": "code",
   "execution_count": 72,
   "metadata": {},
   "outputs": [
    {
     "data": {
      "text/plain": [
       "31"
      ]
     },
     "execution_count": 72,
     "metadata": {},
     "output_type": "execute_result"
    }
   ],
   "source": [
    "products = soup.findAll(attrs={\"class\": \"product\"})\n",
    "len(products)"
   ]
  },
  {
   "cell_type": "code",
   "execution_count": 73,
   "metadata": {},
   "outputs": [],
   "source": [
    "database = []\n",
    "\n",
    "for p in products:\n",
    "    link = p.find(\"a\", attrs={\"class\": \"productLink\"}).attrs['href']\n",
    "    link = \"http://www.ikea.com\" + link\n",
    "    \n",
    "    img = p.find(\"img\", attrs={\"class\": \"prodImg\"}).attrs['src']\n",
    "    img = \"http://www.ikea.com\" + img\n",
    "    \n",
    "    title = p.find(\"span\", attrs={\"class\": \"productTitle\"}).text.strip()\n",
    "    desc = p.find(\"span\", attrs={\"class\": \"productDesp\"}).text.strip()\n",
    "    price_span = p.find(\"span\", attrs={\"class\": \"price\"})\n",
    "    price = list(price_span.children)[0].strip()\n",
    "    \n",
    "    database.append({\n",
    "        \"link\": link, \"img\": img, \"title\": title, \"desc\": desc, \"price\": price\n",
    "    })"
   ]
  },
  {
   "cell_type": "code",
   "execution_count": 74,
   "metadata": {
    "scrolled": false
   },
   "outputs": [
    {
     "data": {
      "text/plain": [
       "[{'link': 'http://www.ikea.com/ru/ru/catalog/products/S39205190/',\n",
       "  'img': 'http://www.ikea.com/PIAimages/0514383_PE639456_S3.JPG',\n",
       "  'title': 'ВИМЛЕ',\n",
       "  'desc': '2-местный диван',\n",
       "  'price': '45\\xa0000.–'},\n",
       " {'link': 'http://www.ikea.com/ru/ru/catalog/products/S49205241/',\n",
       "  'img': 'http://www.ikea.com/PIAimages/0514354_PE639442_S3.JPG',\n",
       "  'title': 'ВИМЛЕ',\n",
       "  'desc': '2-местный диван',\n",
       "  'price': '34\\xa0000.–'},\n",
       " {'link': 'http://www.ikea.com/ru/ru/catalog/products/S59206990/',\n",
       "  'img': 'http://www.ikea.com/PIAimages/0514387_PE639459_S3.JPG',\n",
       "  'title': 'ВИМЛЕ',\n",
       "  'desc': '3-местный диван',\n",
       "  'price': '75\\xa0000.–'},\n",
       " {'link': 'http://www.ikea.com/ru/ru/catalog/products/S89207002/',\n",
       "  'img': 'http://www.ikea.com/PIAimages/0514360_PE639436_S3.JPG',\n",
       "  'title': 'ВИМЛЕ',\n",
       "  'desc': '3-местный диван',\n",
       "  'price': '59\\xa0000.–'},\n",
       " {'link': 'http://www.ikea.com/ru/ru/catalog/products/S59211492/',\n",
       "  'img': 'http://www.ikea.com/PIAimages/0514373_PE639474_S3.JPG',\n",
       "  'title': 'ВИМЛЕ',\n",
       "  'desc': '4-местный угловой диван',\n",
       "  'price': '93\\xa0000.–'},\n",
       " {'link': 'http://www.ikea.com/ru/ru/catalog/products/S69277053/',\n",
       "  'img': 'http://www.ikea.com/PIAimages/0731616_PE738352_S3.JPG',\n",
       "  'title': 'ВАЛЛЕНТУНА',\n",
       "  'desc': '2-местный модульный диван',\n",
       "  'price': '64\\xa0000.–'},\n",
       " {'link': 'http://www.ikea.com/ru/ru/catalog/products/S99206912/',\n",
       "  'img': 'http://www.ikea.com/PIAimages/0514368_PE639441_S3.JPG',\n",
       "  'title': 'ВИМЛЕ',\n",
       "  'desc': '3-местный диван',\n",
       "  'price': '44\\xa0000.–'},\n",
       " {'link': 'http://www.ikea.com/ru/ru/catalog/products/S49211341/',\n",
       "  'img': 'http://www.ikea.com/PIAimages/0514357_PE639443_S3.JPG',\n",
       "  'title': 'ВИМЛЕ',\n",
       "  'desc': '3-местный диван',\n",
       "  'price': '46\\xa0000.–'},\n",
       " {'link': 'http://www.ikea.com/ru/ru/catalog/products/S59211369/',\n",
       "  'img': 'http://www.ikea.com/PIAimages/0514375_PE639464_S3.JPG',\n",
       "  'title': 'ВИМЛЕ',\n",
       "  'desc': '4-местный угловой диван',\n",
       "  'price': '97\\xa0000.–'},\n",
       " {'link': 'http://www.ikea.com/ru/ru/catalog/products/S09211381/',\n",
       "  'img': 'http://www.ikea.com/PIAimages/0514330_PE639412_S3.JPG',\n",
       "  'title': 'ВИМЛЕ',\n",
       "  'desc': '4-местный угловой диван',\n",
       "  'price': '79\\xa0000.–'},\n",
       " {'link': 'http://www.ikea.com/ru/ru/catalog/products/S19211578/',\n",
       "  'img': 'http://www.ikea.com/PIAimages/0514371_PE639453_S3.JPG',\n",
       "  'title': 'ВИМЛЕ',\n",
       "  'desc': '6-местный п-образный диван',\n",
       "  'price': '145\\xa0000.–'},\n",
       " {'link': 'http://www.ikea.com/ru/ru/catalog/products/S69211590/',\n",
       "  'img': 'http://www.ikea.com/PIAimages/0514324_PE639420_S3.JPG',\n",
       "  'title': 'ВИМЛЕ',\n",
       "  'desc': '6-местный п-образный диван',\n",
       "  'price': '125\\xa0000.–'},\n",
       " {'link': 'http://www.ikea.com/ru/ru/catalog/products/S59207046/',\n",
       "  'img': 'http://www.ikea.com/PIAimages/0514389_PE639468_S3.JPG',\n",
       "  'title': 'ВИМЛЕ',\n",
       "  'desc': '4-местный диван',\n",
       "  'price': '85\\xa0000.–'},\n",
       " {'link': 'http://www.ikea.com/ru/ru/catalog/products/S09207058/',\n",
       "  'img': 'http://www.ikea.com/PIAimages/0514363_PE639433_S3.JPG',\n",
       "  'title': 'ВИМЛЕ',\n",
       "  'desc': '4-местный диван',\n",
       "  'price': '69\\xa0000.–'},\n",
       " {'link': 'http://www.ikea.com/ru/ru/catalog/products/S89277066/',\n",
       "  'img': 'http://www.ikea.com/PIAimages/0624033_PE691582_S3.JPG',\n",
       "  'title': 'ВАЛЛЕНТУНА',\n",
       "  'desc': 'модульный угловой диван, 3-местный',\n",
       "  'price': '107\\xa0500.–'},\n",
       " {'link': 'http://www.ikea.com/ru/ru/catalog/products/S39291296/',\n",
       "  'img': 'http://www.ikea.com/PIAimages/0710904_PE727835_S3.JPG',\n",
       "  'title': 'КЛИППАН',\n",
       "  'desc': '2-местный диван',\n",
       "  'price': '16\\xa0999.–'},\n",
       " {'link': 'http://www.ikea.com/ru/ru/catalog/products/S99211452/',\n",
       "  'img': 'http://www.ikea.com/PIAimages/0514377_PE639472_S3.JPG',\n",
       "  'title': 'ВИМЛЕ',\n",
       "  'desc': '5-местный угловой диван',\n",
       "  'price': '107\\xa0000.–'},\n",
       " {'link': 'http://www.ikea.com/ru/ru/catalog/products/S49211464/',\n",
       "  'img': 'http://www.ikea.com/PIAimages/0514333_PE639415_S3.JPG',\n",
       "  'title': 'ВИМЛЕ',\n",
       "  'desc': '5-местный угловой диван',\n",
       "  'price': '89\\xa0000.–'},\n",
       " {'link': 'http://www.ikea.com/ru/ru/catalog/products/S99276924/',\n",
       "  'img': 'http://www.ikea.com/PIAimages/0731504_PE738321_S3.JPG',\n",
       "  'title': 'ВАЛЛЕНТУНА',\n",
       "  'desc': '3-местный модульный диван',\n",
       "  'price': '79\\xa0000.–'},\n",
       " {'link': 'http://www.ikea.com/ru/ru/catalog/products/S99211409/',\n",
       "  'img': 'http://www.ikea.com/PIAimages/0514379_PE639455_S3.JPG',\n",
       "  'title': 'ВИМЛЕ',\n",
       "  'desc': '5-местный угловой диван',\n",
       "  'price': '127\\xa0000.–'},\n",
       " {'link': 'http://www.ikea.com/ru/ru/catalog/products/S49211421/',\n",
       "  'img': 'http://www.ikea.com/PIAimages/0514336_PE639416_S3.JPG',\n",
       "  'title': 'ВИМЛЕ',\n",
       "  'desc': '5-местный угловой диван',\n",
       "  'price': '104\\xa0000.–'},\n",
       " {'link': 'http://www.ikea.com/ru/ru/catalog/products/S59211538/',\n",
       "  'img': 'http://www.ikea.com/PIAimages/0514381_PE639469_S3.JPG',\n",
       "  'title': 'ВИМЛЕ',\n",
       "  'desc': '3-местный угловой диван',\n",
       "  'price': '75\\xa0000.–'},\n",
       " {'link': 'http://www.ikea.com/ru/ru/catalog/products/S09211550/',\n",
       "  'img': 'http://www.ikea.com/PIAimages/0570283_PE666232_S3.JPG',\n",
       "  'title': 'ВИМЛЕ',\n",
       "  'desc': '3-местный угловой диван',\n",
       "  'price': '69\\xa0000.–'},\n",
       " {'link': 'http://www.ikea.com/ru/ru/catalog/products/S29277521/',\n",
       "  'img': 'http://www.ikea.com/PIAimages/0731593_PE738340_S3.JPG',\n",
       "  'title': 'ВАЛЛЕНТУНА',\n",
       "  'desc': '2-местный модульный диван',\n",
       "  'price': '54\\xa0500.–'},\n",
       " {'link': 'http://www.ikea.com/ru/ru/catalog/products/S19276975/',\n",
       "  'img': 'http://www.ikea.com/PIAimages/0404275_PE588621_S3.JPG',\n",
       "  'title': 'ВАЛЛЕНТУНА',\n",
       "  'desc': 'секция дивана со спинкой',\n",
       "  'price': '32\\xa0000.–'},\n",
       " {'link': 'http://www.ikea.com/ru/ru/catalog/products/S19206888/',\n",
       "  'img': 'http://www.ikea.com/PIAimages/0514391_PE639461_S3.JPG',\n",
       "  'title': 'ВИМЛЕ',\n",
       "  'desc': '3-местный диван',\n",
       "  'price': '55\\xa0000.–'},\n",
       " {'link': 'http://www.ikea.com/ru/ru/catalog/products/S99211329/',\n",
       "  'img': 'http://www.ikea.com/PIAimages/0514385_PE639458_S3.JPG',\n",
       "  'title': 'ВИМЛЕ',\n",
       "  'desc': '3-местный диван',\n",
       "  'price': '59\\xa0000.–'},\n",
       " {'link': 'http://www.ikea.com/ru/ru/catalog/products/S79211504/',\n",
       "  'img': 'http://www.ikea.com/PIAimages/0570292_PE666227_S3.JPG',\n",
       "  'title': 'ВИМЛЕ',\n",
       "  'desc': '4-местный угловой диван',\n",
       "  'price': '80\\xa0000.–'},\n",
       " {'link': 'http://www.ikea.com/ru/ru/catalog/products/S59270293/',\n",
       "  'img': 'http://www.ikea.com/PIAimages/0602106_PE680175_S3.JPG',\n",
       "  'title': 'ЛАНДСКРУНА',\n",
       "  'desc': '2-местный диван',\n",
       "  'price': '35\\xa0999.–'},\n",
       " {'link': 'http://www.ikea.com/ru/ru/catalog/products/00361105/',\n",
       "  'img': 'http://www.ikea.com/PIAimages/0447584_PE597393_S3.JPG',\n",
       "  'title': 'СТОКГОЛЬМ 2017',\n",
       "  'desc': 'диван 3-местный',\n",
       "  'price': '99\\xa0999.–'},\n",
       " {'link': 'http://www.ikea.com/ru/ru/catalog/products/80358910/',\n",
       "  'img': 'http://www.ikea.com/PIAimages/0498483_PE629632_S3.JPG',\n",
       "  'title': 'ЭКЕБОЛ',\n",
       "  'desc': 'диван 3-местный',\n",
       "  'price': '34\\xa0999.–'}]"
      ]
     },
     "execution_count": 74,
     "metadata": {},
     "output_type": "execute_result"
    }
   ],
   "source": [
    "database"
   ]
  },
  {
   "cell_type": "code",
   "execution_count": null,
   "metadata": {},
   "outputs": [],
   "source": []
  }
 ],
 "metadata": {
  "kernelspec": {
   "display_name": "Python 3",
   "language": "python",
   "name": "python3"
  },
  "language_info": {
   "codemirror_mode": {
    "name": "ipython",
    "version": 3
   },
   "file_extension": ".py",
   "mimetype": "text/x-python",
   "name": "python",
   "nbconvert_exporter": "python",
   "pygments_lexer": "ipython3",
   "version": "3.6.5"
  }
 },
 "nbformat": 4,
 "nbformat_minor": 2
}
