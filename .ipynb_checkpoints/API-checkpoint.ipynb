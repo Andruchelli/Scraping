{
 "cells": [
  {
   "cell_type": "code",
   "execution_count": null,
   "metadata": {},
   "outputs": [],
   "source": [
    "! pip install requests"
   ]
  },
  {
   "cell_type": "code",
   "execution_count": null,
   "metadata": {},
   "outputs": [],
   "source": [
    "import requests # для создания api, get запросов"
   ]
  },
  {
   "cell_type": "markdown",
   "metadata": {},
   "source": [
    "## Простой API, Get запрос"
   ]
  },
  {
   "cell_type": "code",
   "execution_count": null,
   "metadata": {},
   "outputs": [],
   "source": [
    "todo_api_url = \"https://jsonplaceholder.typicode.com/todos/1\" # сохраняем ссылку на сайт в переменную todo_api_url"
   ]
  },
  {
   "cell_type": "code",
   "execution_count": null,
   "metadata": {},
   "outputs": [],
   "source": [
    "requests.get(todo_api_url) # вызываем функцию get из библиотеки requests"
   ]
  },
  {
   "cell_type": "code",
   "execution_count": null,
   "metadata": {},
   "outputs": [],
   "source": [
    "r = requests.get(todo_api_url)"
   ]
  },
  {
   "cell_type": "code",
   "execution_count": null,
   "metadata": {},
   "outputs": [],
   "source": [
    "# посмотрим какие есть методы\n",
    "r"
   ]
  },
  {
   "cell_type": "code",
   "execution_count": null,
   "metadata": {},
   "outputs": [],
   "source": [
    "# прошло ли все успешно\n",
    "r.ok"
   ]
  },
  {
   "cell_type": "code",
   "execution_count": null,
   "metadata": {},
   "outputs": [],
   "source": [
    "# код возврата\n",
    "r.status_code"
   ]
  },
  {
   "cell_type": "code",
   "execution_count": null,
   "metadata": {},
   "outputs": [],
   "source": [
    "# заголовки, которые отправил сервер, метаинформация про ответ\n",
    "r.headers"
   ]
  },
  {
   "cell_type": "code",
   "execution_count": null,
   "metadata": {},
   "outputs": [],
   "source": [
    "# заголовки запроса\n",
    "r.request.headers"
   ]
  },
  {
   "cell_type": "code",
   "execution_count": null,
   "metadata": {},
   "outputs": [],
   "source": [
    "# тело ответа\n",
    "r.content"
   ]
  },
  {
   "cell_type": "code",
   "execution_count": null,
   "metadata": {
    "scrolled": true
   },
   "outputs": [],
   "source": [
    "d = r.json()"
   ]
  },
  {
   "cell_type": "code",
   "execution_count": null,
   "metadata": {},
   "outputs": [],
   "source": [
    "d['title']"
   ]
  },
  {
   "cell_type": "markdown",
   "metadata": {},
   "source": [
    "## Get запрос с параметрами"
   ]
  },
  {
   "cell_type": "code",
   "execution_count": null,
   "metadata": {},
   "outputs": [],
   "source": [
    "api_key = \"36c7104302364b64a945e7e35eb7d524\"\n",
    "base_url = \"https://newsapi.org/v2/everything\""
   ]
  },
  {
   "cell_type": "code",
   "execution_count": 84,
   "metadata": {},
   "outputs": [],
   "source": [
    "query = \"bitcoin price\"\n",
    "\n",
    "resp = requests.get(base_url, params={\n",
    "    \"apiKey\": api_key, \"q\": query, \"language\": \"en\"\n",
    "})"
   ]
  },
  {
   "cell_type": "code",
   "execution_count": 85,
   "metadata": {},
   "outputs": [
    {
     "data": {
      "text/plain": [
       "True"
      ]
     },
     "execution_count": 85,
     "metadata": {},
     "output_type": "execute_result"
    }
   ],
   "source": [
    "resp.ok"
   ]
  },
  {
   "cell_type": "code",
   "execution_count": 86,
   "metadata": {
    "scrolled": false
   },
   "outputs": [],
   "source": [
    "body = resp.json()"
   ]
  },
  {
   "cell_type": "code",
   "execution_count": 92,
   "metadata": {
    "scrolled": false
   },
   "outputs": [],
   "source": [
    "# body[\"articles\"]"
   ]
  },
  {
   "cell_type": "code",
   "execution_count": 93,
   "metadata": {},
   "outputs": [
    {
     "name": "stdout",
     "output_type": "stream",
     "text": [
      "Bitcoin (BTC) Will End 2019 Much Higher Than 3900 USD, Tom Lee Says - Ethereum World News https://ethereumworldnews.com/bitcoin-end-2019-higher-3900-tom-lee/\n",
      "\n",
      "9 Reasons the Crypto Market Is Down https://www.entrepreneur.com/article/326790\n",
      "\n",
      "4 years after adopting Bitcoin, this business is still waiting for someone to use it https://thenextweb.com/hardfork/2019/02/28/bitcoin-adoption-zero-locksmith/\n",
      "\n",
      "The ultimate cryptocurrency explainer: Bitcoin, utility tokens, and stablecoins https://thenextweb.com/hardfork/2019/02/13/bitcoin-stablecoins-utility-cryptocurrency/\n",
      "\n",
      "A deep dive into Bitcoin – and what makes it better than ‘real money’ https://thenextweb.com/hardfork/2019/02/13/a-deep-dive-into-bitcoin-and-what-makes-it-better-than-real-money/\n",
      "\n",
      "HTC Exodus 1: Hands-on with the blockchain phone https://mashable.com/article/htc-exodus-1-hands-on/\n",
      "\n",
      "The differences between cryptocurrencies, virtual, and digital currencies https://thenextweb.com/hardfork/2019/02/19/the-differences-between-cryptocurrencies-virtual-and-digital-currencies/\n",
      "\n",
      "Samsung Galaxy S10 Plus hands on review - TechRadar https://www.techradar.com/reviews/samsung-galaxy-s10-plus\n",
      "\n",
      "The Morning After: Tesla's $35k Model 3 goes on sale https://www.engadget.com/2019/03/01/the-morning-after/\n",
      "\n",
      "Let’s reminisce over 2014’s bizarre cryptocurrency market https://thenextweb.com/hardfork/2019/02/28/cryptocurrency-bitcoin-2014-reminisce/\n",
      "\n",
      "Bitcoin.com’s Roger Ver is still shilling ICOs like it’s 2017 https://thenextweb.com/hardfork/2019/02/25/roger-ver-ico-shilling/\n",
      "\n",
      "Research: Ethereum’s new economic model not ‘lucrative enough’ to keep it secure https://thenextweb.com/hardfork/2019/03/07/ethereum-economic-model-blockchain/\n",
      "\n",
      "Hackers Steal Over 600 Million Account Details From 16 Websites Including ShareThis, Dubsmash, MyFitnessP... - News18 https://www.news18.com/news/tech/hackers-steal-over-600-million-account-details-from-16-websites-including-sharethis-dubsmash-myfitnesspal-2036455.html\n",
      "\n",
      "Learn to turn your passion into a lucrative career with this $15 course https://thenextweb.com/offers/2019/03/07/learn-to-turn-your-passion-into-a-lucrative-career-with-this-15-course/\n",
      "\n",
      "Cryptos: Bitcoin trades higher, on track four 4-day winning streak https://www.marketwatch.com/story/bitcoin-trades-higher-on-track-four-4-day-winning-streak-2019-03-08\n",
      "\n",
      "When Will You Be Able to Use Cryptocurrency to Buy a Pack of Gum? https://readwrite.com/2019/02/19/when-will-you-be-able-to-use-cryptocurrency-to-buy-a-pack-of-gum/\n",
      "\n",
      "In One Chart: This pattern suggests bitcoin could be en route to $20,000, in one chart https://www.marketwatch.com/story/this-pattern-suggests-bitcoin-could-be-en-route-to-20000-in-one-chart-2019-03-04\n",
      "\n",
      "Cryptos: Bitcoin’s struggle below $4,000 is putting a ‘devastating dent in the bull case,’ says analyst https://www.marketwatch.com/story/bitcoins-struggle-below-4000-is-putting-a-devastating-dent-in-the-bull-case-says-analyst-2019-03-07\n",
      "\n",
      "Cryptos: Bitcoin holds near three-week high above $3,600 https://www.marketwatch.com/story/bitcoin-holds-near-three-week-high-above-3600-2019-02-11\n",
      "\n",
      "Arduino v Raspberry Pi: Battle of the eTitans https://makezine.com/2019/02/18/arduino-v-raspberry-pi-battle-of-the-etitans/\n",
      "\n"
     ]
    }
   ],
   "source": [
    "for article in body[\"articles\"]:\n",
    "    print(article[\"title\"], article[\"url\"], end=\"\\n\\n\")"
   ]
  },
  {
   "cell_type": "code",
   "execution_count": null,
   "metadata": {},
   "outputs": [],
   "source": []
  }
 ],
 "metadata": {
  "kernelspec": {
   "display_name": "Python 3 (ipykernel)",
   "language": "python",
   "name": "python3"
  },
  "language_info": {
   "codemirror_mode": {
    "name": "ipython",
    "version": 3
   },
   "file_extension": ".py",
   "mimetype": "text/x-python",
   "name": "python",
   "nbconvert_exporter": "python",
   "pygments_lexer": "ipython3",
   "version": "3.9.12"
  }
 },
 "nbformat": 4,
 "nbformat_minor": 2
}
